{
 "cells": [
  {
   "cell_type": "code",
   "execution_count": 1,
   "metadata": {},
   "outputs": [
    {
     "name": "stderr",
     "output_type": "stream",
     "text": [
      "Using TensorFlow backend.\n"
     ]
    }
   ],
   "source": [
    "import pandas as pd\n",
    "import tensorflow as tf\n",
    "import numpy as np\n",
    "from sklearn.preprocessing import scale\n",
    "from keras.models import Sequential\n",
    "from keras.layers import Dense, Dropout"
   ]
  },
  {
   "cell_type": "code",
   "execution_count": 2,
   "metadata": {
    "collapsed": true
   },
   "outputs": [],
   "source": [
    "path_train = \"UJIndoorLoc/trainingData.csv\"\n",
    "path_validation = \"UJIndoorLoc/validationData.csv\""
   ]
  },
  {
   "cell_type": "code",
   "execution_count": 3,
   "metadata": {
    "scrolled": true
   },
   "outputs": [
    {
     "name": "stderr",
     "output_type": "stream",
     "text": [
      "c:\\python\\python35\\lib\\site-packages\\ipykernel_launcher.py:4: DeprecationWarning: \n",
      ".ix is deprecated. Please use\n",
      ".loc for label based indexing or\n",
      ".iloc for positional indexing\n",
      "\n",
      "See the documentation here:\n",
      "http://pandas.pydata.org/pandas-docs/stable/indexing.html#deprecate_ix\n",
      "  after removing the cwd from sys.path.\n",
      "c:\\python\\python35\\lib\\site-packages\\sklearn\\utils\\validation.py:429: DataConversionWarning: Data with input dtype int64 was converted to float64 by the scale function.\n",
      "  warnings.warn(msg, _DataConversionWarning)\n"
     ]
    }
   ],
   "source": [
    "#Explicitly pass header=0 to be able to replace existing names \n",
    "train_df = pd.read_csv(path_train,header = 0)\n",
    "train_df = train_df[:19930]\n",
    "train_AP_strengths = train_df.ix[:,:520] #select first 520 columns\n",
    "\n",
    "#Scale transforms data to center to the mean and component wise scale to unit variance\n",
    "train_AP_features = scale(np.asarray(train_AP_strengths))\n",
    "\n",
    "#The following two objects are actually pandas.core.series.Series objects\n",
    "building_ids_str = train_df[\"BUILDINGID\"].map(str) #convert all the building ids to strings\n",
    "building_floors_str = train_df[\"FLOOR\"].map(str) #convert all the building floors to strings\n",
    "\n",
    "res = building_ids_str + building_floors_str #element wise concatenation of BUILDINGID+FLOOR\n",
    "train_labels = np.asarray(building_ids_str + building_floors_str)\n",
    "\n",
    "#convert labels to categorical variables, dummy_labels has type 'pandas.core.frame.DataFrame'\n",
    "dummy_labels = pd.get_dummies(train_labels)\n",
    "\n",
    "\n",
    "\"\"\"one hot encode the dummy_labels.\n",
    "this is done because dummy_labels is a dataframe with the labels (BUILDINGID+FLOOR) \n",
    "as the column names\n",
    "\"\"\"\n",
    "train_labels = np.asarray(dummy_labels) #labels is an array of shape 19937 x 13. (there are 13 types of labels)"
   ]
  },
  {
   "cell_type": "code",
   "execution_count": 4,
   "metadata": {
    "collapsed": true
   },
   "outputs": [],
   "source": [
    "#generate len(train_AP_features) of floats in between 0 and 1\n",
    "train_val_split = np.random.rand(len(train_AP_features))\n",
    "#convert train_val_split to an array of booleans: if elem < 0.7 = true, else: false\n",
    "train_val_split = train_val_split < 0.70 #should contain ~70% percent true"
   ]
  },
  {
   "cell_type": "markdown",
   "metadata": {},
   "source": [
    "We aren't given a formal testing set, so we will treat the given validation set as the testing set"
   ]
  },
  {
   "cell_type": "code",
   "execution_count": 5,
   "metadata": {
    "collapsed": true
   },
   "outputs": [],
   "source": [
    "# We will then split our given training set into training + validation \n",
    "train_X = train_AP_features[train_val_split]\n",
    "train_y = train_labels[train_val_split]\n",
    "val_X = train_AP_features[~train_val_split]\n",
    "val_y = train_labels[~train_val_split]"
   ]
  },
  {
   "cell_type": "code",
   "execution_count": 6,
   "metadata": {},
   "outputs": [
    {
     "name": "stderr",
     "output_type": "stream",
     "text": [
      "c:\\python\\python35\\lib\\site-packages\\ipykernel_launcher.py:3: DeprecationWarning: \n",
      ".ix is deprecated. Please use\n",
      ".loc for label based indexing or\n",
      ".iloc for positional indexing\n",
      "\n",
      "See the documentation here:\n",
      "http://pandas.pydata.org/pandas-docs/stable/indexing.html#deprecate_ix\n",
      "  This is separate from the ipykernel package so we can avoid doing imports until\n",
      "c:\\python\\python35\\lib\\site-packages\\sklearn\\utils\\validation.py:429: DataConversionWarning: Data with input dtype int64 was converted to float64 by the scale function.\n",
      "  warnings.warn(msg, _DataConversionWarning)\n"
     ]
    }
   ],
   "source": [
    "#Turn the given validation set into a testing set\n",
    "test_df = pd.read_csv(path_validation,header = 0)\n",
    "test_AP_features = scale(np.asarray(test_df.ix[:,0:520]))\n",
    "test_labels = np.asarray(test_df[\"BUILDINGID\"].map(str) + test_df[\"FLOOR\"].map(str))\n",
    "test_labels = np.asarray(pd.get_dummies(test_labels))"
   ]
  },
  {
   "cell_type": "code",
   "execution_count": 7,
   "metadata": {
    "collapsed": true
   },
   "outputs": [],
   "source": [
    "nb_epochs = 20\n",
    "batch_size = 10\n",
    "input_size = 520\n",
    "num_classes = 13"
   ]
  },
  {
   "cell_type": "code",
   "execution_count": 8,
   "metadata": {
    "collapsed": true
   },
   "outputs": [],
   "source": [
    "def encoder():\n",
    "    model = Sequential()\n",
    "    model.add(Dense(256, input_dim=input_size, activation='tanh', bias=True))\n",
    "    model.add(Dense(128, activation='tanh', bias=True))\n",
    "    model.add(Dense(64, activation='tanh', bias=True))\n",
    "    return model"
   ]
  },
  {
   "cell_type": "code",
   "execution_count": 13,
   "metadata": {
    "collapsed": true
   },
   "outputs": [],
   "source": [
    "def decoder(e):   \n",
    "    e.add(Dense(128, input_dim=64, activation='tanh', bias=True))\n",
    "    e.add(Dense(256, activation='tanh', bias=True))\n",
    "    e.add(Dense(input_size, activation='tanh', bias=True))\n",
    "    e.compile(optimizer='adam', loss='mse')\n",
    "    return e\n",
    "    "
   ]
  },
  {
   "cell_type": "code",
   "execution_count": 14,
   "metadata": {
    "scrolled": true
   },
   "outputs": [
    {
     "name": "stderr",
     "output_type": "stream",
     "text": [
      "c:\\python\\python35\\lib\\site-packages\\ipykernel_launcher.py:3: UserWarning: Update your `Dense` call to the Keras 2 API: `Dense(256, activation=\"tanh\", input_dim=520, use_bias=True)`\n",
      "  This is separate from the ipykernel package so we can avoid doing imports until\n",
      "c:\\python\\python35\\lib\\site-packages\\ipykernel_launcher.py:4: UserWarning: Update your `Dense` call to the Keras 2 API: `Dense(128, activation=\"tanh\", use_bias=True)`\n",
      "  after removing the cwd from sys.path.\n",
      "c:\\python\\python35\\lib\\site-packages\\ipykernel_launcher.py:5: UserWarning: Update your `Dense` call to the Keras 2 API: `Dense(64, activation=\"tanh\", use_bias=True)`\n",
      "  \"\"\"\n"
     ]
    }
   ],
   "source": [
    "e = encoder()"
   ]
  },
  {
   "cell_type": "code",
   "execution_count": 15,
   "metadata": {},
   "outputs": [
    {
     "name": "stderr",
     "output_type": "stream",
     "text": [
      "c:\\python\\python35\\lib\\site-packages\\ipykernel_launcher.py:2: UserWarning: Update your `Dense` call to the Keras 2 API: `Dense(128, activation=\"tanh\", input_dim=64, use_bias=True)`\n",
      "  \n",
      "c:\\python\\python35\\lib\\site-packages\\ipykernel_launcher.py:3: UserWarning: Update your `Dense` call to the Keras 2 API: `Dense(256, activation=\"tanh\", use_bias=True)`\n",
      "  This is separate from the ipykernel package so we can avoid doing imports until\n",
      "c:\\python\\python35\\lib\\site-packages\\ipykernel_launcher.py:4: UserWarning: Update your `Dense` call to the Keras 2 API: `Dense(520, activation=\"tanh\", use_bias=True)`\n",
      "  after removing the cwd from sys.path.\n"
     ]
    }
   ],
   "source": [
    "d = decoder(e)"
   ]
  },
  {
   "cell_type": "code",
   "execution_count": 16,
   "metadata": {
    "scrolled": false
   },
   "outputs": [
    {
     "name": "stdout",
     "output_type": "stream",
     "text": [
      "Epoch 1/20\n",
      "13912/13912 [==============================] - 6s - loss: 0.7243     \n",
      "Epoch 2/20\n",
      "13912/13912 [==============================] - 6s - loss: 0.6997     \n",
      "Epoch 3/20\n",
      "13912/13912 [==============================] - 6s - loss: 0.6939     \n",
      "Epoch 4/20\n",
      "13912/13912 [==============================] - 6s - loss: 0.6912     \n",
      "Epoch 5/20\n",
      "13912/13912 [==============================] - 6s - loss: 0.6890     \n",
      "Epoch 6/20\n",
      "13912/13912 [==============================] - 6s - loss: 0.6870     \n",
      "Epoch 7/20\n",
      "13912/13912 [==============================] - 6s - loss: 0.6854     \n",
      "Epoch 8/20\n",
      "13912/13912 [==============================] - 6s - loss: 0.6838     \n",
      "Epoch 9/20\n",
      "13912/13912 [==============================] - 6s - loss: 0.6825     \n",
      "Epoch 10/20\n",
      "13912/13912 [==============================] - 6s - loss: 0.6813     \n",
      "Epoch 11/20\n",
      "13912/13912 [==============================] - 6s - loss: 0.6804     \n",
      "Epoch 12/20\n",
      "13912/13912 [==============================] - 6s - loss: 0.6794     \n",
      "Epoch 13/20\n",
      "13912/13912 [==============================] - 5s - loss: 0.6785     \n",
      "Epoch 14/20\n",
      "13912/13912 [==============================] - 6s - loss: 0.6777     \n",
      "Epoch 15/20\n",
      "13912/13912 [==============================] - 6s - loss: 0.6769     \n",
      "Epoch 16/20\n",
      "13912/13912 [==============================] - 6s - loss: 0.6762     \n",
      "Epoch 17/20\n",
      "13912/13912 [==============================] - 6s - loss: 0.6756     \n",
      "Epoch 18/20\n",
      "13912/13912 [==============================] - 7s - loss: 0.6751     \n",
      "Epoch 19/20\n",
      "13912/13912 [==============================] - 6s - loss: 0.6744     \n",
      "Epoch 20/20\n",
      "13912/13912 [==============================] - 6s - loss: 0.6739     \n"
     ]
    },
    {
     "data": {
      "text/plain": [
       "<keras.callbacks.History at 0x1dd8a61be80>"
      ]
     },
     "execution_count": 16,
     "metadata": {},
     "output_type": "execute_result"
    }
   ],
   "source": [
    "d.fit(train_X, train_X, epochs=nb_epochs, batch_size=batch_size)"
   ]
  },
  {
   "cell_type": "code",
   "execution_count": 17,
   "metadata": {
    "collapsed": true
   },
   "outputs": [],
   "source": [
    "def classifier(d):\n",
    "    d.add(Dense(64, input_dim=64, activation='relu', bias=True))\n",
    "    #num_to_remove = 3\n",
    "    #for i in range(num_to_remove):\n",
    "        #d.pop()\n",
    "    d.add(Dropout(0.75))\n",
    "    d.add(Dense(32, activation='relu', bias=True))\n",
    "    d.add(Dense(16, activation='relu', bias=True))\n",
    "    d.add(Dense(num_classes, activation='softmax', bias=True))\n",
    "    d.compile(optimizer='adam', loss='categorical_crossentropy',metrics=['accuracy'])\n",
    "    return d"
   ]
  },
  {
   "cell_type": "code",
   "execution_count": 18,
   "metadata": {
    "scrolled": true
   },
   "outputs": [
    {
     "name": "stderr",
     "output_type": "stream",
     "text": [
      "c:\\python\\python35\\lib\\site-packages\\ipykernel_launcher.py:2: UserWarning: Update your `Dense` call to the Keras 2 API: `Dense(64, activation=\"relu\", input_dim=64, use_bias=True)`\n",
      "  \n",
      "c:\\python\\python35\\lib\\site-packages\\ipykernel_launcher.py:7: UserWarning: Update your `Dense` call to the Keras 2 API: `Dense(32, activation=\"relu\", use_bias=True)`\n",
      "  import sys\n",
      "c:\\python\\python35\\lib\\site-packages\\ipykernel_launcher.py:8: UserWarning: Update your `Dense` call to the Keras 2 API: `Dense(16, activation=\"relu\", use_bias=True)`\n",
      "  \n",
      "c:\\python\\python35\\lib\\site-packages\\ipykernel_launcher.py:9: UserWarning: Update your `Dense` call to the Keras 2 API: `Dense(13, activation=\"softmax\", use_bias=True)`\n",
      "  if __name__ == '__main__':\n"
     ]
    }
   ],
   "source": [
    "c = classifier(d)"
   ]
  },
  {
   "cell_type": "code",
   "execution_count": 19,
   "metadata": {},
   "outputs": [
    {
     "name": "stdout",
     "output_type": "stream",
     "text": [
      "Train on 13912 samples, validate on 6018 samples\n",
      "Epoch 1/20\n",
      "13912/13912 [==============================] - 7s - loss: 1.0121 - acc: 0.6251 - val_loss: 0.4167 - val_acc: 0.8538\n",
      "Epoch 2/20\n",
      "13912/13912 [==============================] - 7s - loss: 0.5237 - acc: 0.8052 - val_loss: 0.3105 - val_acc: 0.8865\n",
      "Epoch 3/20\n",
      "13912/13912 [==============================] - 7s - loss: 0.4558 - acc: 0.8303 - val_loss: 0.3111 - val_acc: 0.8922\n",
      "Epoch 4/20\n",
      "13912/13912 [==============================] - 7s - loss: 0.4208 - acc: 0.8452 - val_loss: 0.3062 - val_acc: 0.8956\n",
      "Epoch 5/20\n",
      "13912/13912 [==============================] - 7s - loss: 0.3744 - acc: 0.8562 - val_loss: 0.2947 - val_acc: 0.8868\n",
      "Epoch 6/20\n",
      "13912/13912 [==============================] - 8s - loss: 0.3427 - acc: 0.8684 - val_loss: 0.2908 - val_acc: 0.8830\n",
      "Epoch 7/20\n",
      "13912/13912 [==============================] - 8s - loss: 0.3515 - acc: 0.8687 - val_loss: 0.2347 - val_acc: 0.9043\n",
      "Epoch 8/20\n",
      "13912/13912 [==============================] - 8s - loss: 0.2997 - acc: 0.9032 - val_loss: 0.2902 - val_acc: 0.9179\n",
      "Epoch 9/20\n",
      "13912/13912 [==============================] - 8s - loss: 0.2917 - acc: 0.9147 - val_loss: 0.2529 - val_acc: 0.9430\n",
      "Epoch 10/20\n",
      "13912/13912 [==============================] - 8s - loss: 0.2833 - acc: 0.9130 - val_loss: 0.2531 - val_acc: 0.9398\n",
      "Epoch 11/20\n",
      "13912/13912 [==============================] - 8s - loss: 0.2586 - acc: 0.9181 - val_loss: 0.2268 - val_acc: 0.9403\n",
      "Epoch 12/20\n",
      "13912/13912 [==============================] - 8s - loss: 0.2609 - acc: 0.9209 - val_loss: 0.2661 - val_acc: 0.9478\n",
      "Epoch 13/20\n",
      "13912/13912 [==============================] - 8s - loss: 0.2596 - acc: 0.9268 - val_loss: 0.2739 - val_acc: 0.9403\n",
      "Epoch 14/20\n",
      "13912/13912 [==============================] - 8s - loss: 0.2498 - acc: 0.9303 - val_loss: 0.2375 - val_acc: 0.9553\n",
      "Epoch 15/20\n",
      "13912/13912 [==============================] - 9s - loss: 0.2264 - acc: 0.9357 - val_loss: 0.2739 - val_acc: 0.8912\n",
      "Epoch 16/20\n",
      "13912/13912 [==============================] - 8s - loss: 0.2386 - acc: 0.9332 - val_loss: 0.2358 - val_acc: 0.9497\n",
      "Epoch 17/20\n",
      "13912/13912 [==============================] - 9s - loss: 0.2336 - acc: 0.9347 - val_loss: 0.2347 - val_acc: 0.9076\n",
      "Epoch 18/20\n",
      "13912/13912 [==============================] - 9s - loss: 0.2201 - acc: 0.9358 - val_loss: 0.2115 - val_acc: 0.9515\n",
      "Epoch 19/20\n",
      "13912/13912 [==============================] - 8s - loss: 0.2080 - acc: 0.9432 - val_loss: 0.2405 - val_acc: 0.9470\n",
      "Epoch 20/20\n",
      "13912/13912 [==============================] - 8s - loss: 0.2008 - acc: 0.9443 - val_loss: 0.2178 - val_acc: 0.9473\n"
     ]
    },
    {
     "data": {
      "text/plain": [
       "<keras.callbacks.History at 0x1dd8b5ee978>"
      ]
     },
     "execution_count": 19,
     "metadata": {},
     "output_type": "execute_result"
    }
   ],
   "source": [
    "c.fit(train_X, train_y, validation_data=(val_X, val_y), epochs=nb_epochs, batch_size=batch_size)"
   ]
  },
  {
   "cell_type": "code",
   "execution_count": 20,
   "metadata": {
    "scrolled": false
   },
   "outputs": [
    {
     "name": "stdout",
     "output_type": "stream",
     "text": [
      " 800/1111 [====================>.........] - ETA: 0s"
     ]
    }
   ],
   "source": [
    "loss, acc = c.evaluate(test_AP_features, test_labels)"
   ]
  },
  {
   "cell_type": "code",
   "execution_count": 21,
   "metadata": {
    "scrolled": false
   },
   "outputs": [
    {
     "name": "stdout",
     "output_type": "stream",
     "text": [
      "1.043847667 0.745274527453\n"
     ]
    }
   ],
   "source": [
    "print (loss, acc)"
   ]
  },
  {
   "cell_type": "markdown",
   "metadata": {},
   "source": [
    "### Notes:\n",
    "\n",
    "- This program has a little bit higher accuracy, around 3%, compared with the other sample. I don't think it has a larger "
   ]
  }
 ],
 "metadata": {
  "kernelspec": {
   "display_name": "Python 3",
   "language": "python",
   "name": "python3"
  },
  "language_info": {
   "codemirror_mode": {
    "name": "ipython",
    "version": 3
   },
   "file_extension": ".py",
   "mimetype": "text/x-python",
   "name": "python",
   "nbconvert_exporter": "python",
   "pygments_lexer": "ipython3",
   "version": "3.5.3"
  }
 },
 "nbformat": 4,
 "nbformat_minor": 1
}
