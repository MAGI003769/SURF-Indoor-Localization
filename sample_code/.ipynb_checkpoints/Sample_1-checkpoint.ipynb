{
 "cells": [
  {
   "cell_type": "code",
   "execution_count": 1,
   "metadata": {},
   "outputs": [
    {
     "name": "stderr",
     "output_type": "stream",
     "text": [
      "Using TensorFlow backend.\n"
     ]
    }
   ],
   "source": [
    "import pandas as pd\n",
    "import tensorflow as tf\n",
    "import numpy as np\n",
    "from sklearn.preprocessing import scale\n",
    "from keras.models import Sequential\n",
    "from keras.layers import Dense, Dropout"
   ]
  },
  {
   "cell_type": "code",
   "execution_count": 2,
   "metadata": {
    "collapsed": true
   },
   "outputs": [],
   "source": [
    "path_train = \"UJIndoorLoc/trainingData.csv\"\n",
    "path_validation = \"UJIndoorLoc/validationData.csv\""
   ]
  },
  {
   "cell_type": "code",
   "execution_count": 3,
   "metadata": {},
   "outputs": [
    {
     "name": "stderr",
     "output_type": "stream",
     "text": [
      "c:\\python\\python35\\lib\\site-packages\\ipykernel_launcher.py:4: DeprecationWarning: \n",
      ".ix is deprecated. Please use\n",
      ".loc for label based indexing or\n",
      ".iloc for positional indexing\n",
      "\n",
      "See the documentation here:\n",
      "http://pandas.pydata.org/pandas-docs/stable/indexing.html#deprecate_ix\n",
      "  after removing the cwd from sys.path.\n",
      "c:\\python\\python35\\lib\\site-packages\\sklearn\\utils\\validation.py:429: DataConversionWarning: Data with input dtype int64 was converted to float64 by the scale function.\n",
      "  warnings.warn(msg, _DataConversionWarning)\n"
     ]
    }
   ],
   "source": [
    "#Explicitly pass header=0 to be able to replace existing names \n",
    "train_df = pd.read_csv(path_train,header = 0)\n",
    "train_df = train_df[:19930]\n",
    "train_AP_strengths = train_df.ix[:,:520] #select first 520 columns\n",
    "\n",
    "#Scale transforms data to center to the mean and component wise scale to unit variance\n",
    "train_AP_features = scale(np.asarray(train_AP_strengths))\n",
    "\n",
    "#The following two objects are actually pandas.core.series.Series objects\n",
    "building_ids_str = train_df[\"BUILDINGID\"].map(str) #convert all the building ids to strings\n",
    "building_floors_str = train_df[\"FLOOR\"].map(str) #convert all the building floors to strings\n",
    "\n",
    "res = building_ids_str + building_floors_str #element wise concatenation of BUILDINGID+FLOOR\n",
    "train_labels = np.asarray(building_ids_str + building_floors_str)\n",
    "\n",
    "#convert labels to categorical variables, dummy_labels has type 'pandas.core.frame.DataFrame'\n",
    "dummy_labels = pd.get_dummies(train_labels)\n",
    "\n",
    "\n",
    "\"\"\"one hot encode the dummy_labels.\n",
    "this is done because dummy_labels is a dataframe with the labels (BUILDINGID+FLOOR) \n",
    "as the column names\n",
    "\"\"\"\n",
    "train_labels = np.asarray(dummy_labels) #labels is an array of shape 19937 x 13. (there are 13 types of labels)"
   ]
  },
  {
   "cell_type": "code",
   "execution_count": 4,
   "metadata": {
    "collapsed": true
   },
   "outputs": [],
   "source": [
    "#generate len(train_AP_features) of floats in between 0 and 1\n",
    "train_val_split = np.random.rand(len(train_AP_features))\n",
    "#convert train_val_split to an array of booleans: if elem < 0.7 = true, else: false\n",
    "train_val_split = train_val_split < 0.70 #should contain ~70% percent true"
   ]
  },
  {
   "cell_type": "markdown",
   "metadata": {},
   "source": [
    "We aren't given a formal testing set, so we will treat the given validation set as the testing set"
   ]
  },
  {
   "cell_type": "code",
   "execution_count": 5,
   "metadata": {
    "collapsed": true
   },
   "outputs": [],
   "source": [
    "# We will then split our given training set into training + validation \n",
    "train_X = train_AP_features[train_val_split]\n",
    "train_y = train_labels[train_val_split]\n",
    "val_X = train_AP_features[~train_val_split]\n",
    "val_y = train_labels[~train_val_split]"
   ]
  },
  {
   "cell_type": "code",
   "execution_count": 6,
   "metadata": {},
   "outputs": [
    {
     "name": "stderr",
     "output_type": "stream",
     "text": [
      "c:\\python\\python35\\lib\\site-packages\\ipykernel_launcher.py:3: DeprecationWarning: \n",
      ".ix is deprecated. Please use\n",
      ".loc for label based indexing or\n",
      ".iloc for positional indexing\n",
      "\n",
      "See the documentation here:\n",
      "http://pandas.pydata.org/pandas-docs/stable/indexing.html#deprecate_ix\n",
      "  This is separate from the ipykernel package so we can avoid doing imports until\n",
      "c:\\python\\python35\\lib\\site-packages\\sklearn\\utils\\validation.py:429: DataConversionWarning: Data with input dtype int64 was converted to float64 by the scale function.\n",
      "  warnings.warn(msg, _DataConversionWarning)\n"
     ]
    }
   ],
   "source": [
    "#Turn the given validation set into a testing set\n",
    "test_df = pd.read_csv(path_validation,header = 0)\n",
    "test_AP_features = scale(np.asarray(test_df.ix[:,0:520]))\n",
    "test_labels = np.asarray(test_df[\"BUILDINGID\"].map(str) + test_df[\"FLOOR\"].map(str))\n",
    "test_labels = np.asarray(pd.get_dummies(test_labels))"
   ]
  },
  {
   "cell_type": "code",
   "execution_count": 7,
   "metadata": {
    "collapsed": true
   },
   "outputs": [],
   "source": [
    "nb_epochs = 20\n",
    "batch_size = 10\n",
    "input_size = 520\n",
    "num_classes = 13"
   ]
  },
  {
   "cell_type": "code",
   "execution_count": 8,
   "metadata": {
    "collapsed": true
   },
   "outputs": [],
   "source": [
    "def encoder():\n",
    "    model = Sequential()\n",
    "    model.add(Dense(256, input_dim=input_size, activation='tanh', bias=True))\n",
    "    model.add(Dense(128, activation='tanh', bias=True))\n",
    "    model.add(Dense(64, activation='tanh', bias=True))\n",
    "    return model"
   ]
  },
  {
   "cell_type": "code",
   "execution_count": 9,
   "metadata": {
    "collapsed": true
   },
   "outputs": [],
   "source": [
    "def decoder(e):   \n",
    "    e.add(Dense(128, input_dim=64, activation='tanh', bias=True))\n",
    "    e.add(Dense(256, activation='tanh', bias=True))\n",
    "    e.add(Dense(input_size, activation='tanh', bias=True))\n",
    "    e.compile(optimizer='adam', loss='mse')\n",
    "    return e\n",
    "    "
   ]
  },
  {
   "cell_type": "code",
   "execution_count": 10,
   "metadata": {},
   "outputs": [
    {
     "name": "stderr",
     "output_type": "stream",
     "text": [
      "c:\\python\\python35\\lib\\site-packages\\ipykernel_launcher.py:3: UserWarning: Update your `Dense` call to the Keras 2 API: `Dense(256, activation=\"tanh\", input_dim=520, use_bias=True)`\n",
      "  This is separate from the ipykernel package so we can avoid doing imports until\n",
      "c:\\python\\python35\\lib\\site-packages\\ipykernel_launcher.py:4: UserWarning: Update your `Dense` call to the Keras 2 API: `Dense(128, activation=\"tanh\", use_bias=True)`\n",
      "  after removing the cwd from sys.path.\n",
      "c:\\python\\python35\\lib\\site-packages\\ipykernel_launcher.py:5: UserWarning: Update your `Dense` call to the Keras 2 API: `Dense(64, activation=\"tanh\", use_bias=True)`\n",
      "  \"\"\"\n"
     ]
    }
   ],
   "source": [
    "e = encoder()"
   ]
  },
  {
   "cell_type": "code",
   "execution_count": 11,
   "metadata": {},
   "outputs": [
    {
     "name": "stderr",
     "output_type": "stream",
     "text": [
      "c:\\python\\python35\\lib\\site-packages\\ipykernel_launcher.py:2: UserWarning: Update your `Dense` call to the Keras 2 API: `Dense(128, activation=\"tanh\", input_dim=64, use_bias=True)`\n",
      "  \n",
      "c:\\python\\python35\\lib\\site-packages\\ipykernel_launcher.py:3: UserWarning: Update your `Dense` call to the Keras 2 API: `Dense(256, activation=\"tanh\", use_bias=True)`\n",
      "  This is separate from the ipykernel package so we can avoid doing imports until\n",
      "c:\\python\\python35\\lib\\site-packages\\ipykernel_launcher.py:4: UserWarning: Update your `Dense` call to the Keras 2 API: `Dense(520, activation=\"tanh\", use_bias=True)`\n",
      "  after removing the cwd from sys.path.\n"
     ]
    }
   ],
   "source": [
    "d = decoder(e)"
   ]
  },
  {
   "cell_type": "code",
   "execution_count": 12,
   "metadata": {},
   "outputs": [
    {
     "name": "stderr",
     "output_type": "stream",
     "text": [
      "c:\\python\\python35\\lib\\site-packages\\keras\\models.py:851: UserWarning: The `nb_epoch` argument in `fit` has been renamed `epochs`.\n",
      "  warnings.warn('The `nb_epoch` argument in `fit` '\n"
     ]
    },
    {
     "name": "stdout",
     "output_type": "stream",
     "text": [
      "Epoch 1/20\n",
      "13934/13934 [==============================] - 6s - loss: 0.7217     \n",
      "Epoch 2/20\n",
      "13934/13934 [==============================] - 5s - loss: 0.6972     \n",
      "Epoch 3/20\n",
      "13934/13934 [==============================] - 5s - loss: 0.6915     \n",
      "Epoch 4/20\n",
      "13934/13934 [==============================] - 5s - loss: 0.6885     \n",
      "Epoch 5/20\n",
      "13934/13934 [==============================] - 5s - loss: 0.6864     \n",
      "Epoch 6/20\n",
      "13934/13934 [==============================] - 5s - loss: 0.6847     \n",
      "Epoch 7/20\n",
      "13934/13934 [==============================] - 5s - loss: 0.6831     \n",
      "Epoch 8/20\n",
      "13934/13934 [==============================] - 5s - loss: 0.6818     \n",
      "Epoch 9/20\n",
      "13934/13934 [==============================] - 6s - loss: 0.6804     \n",
      "Epoch 10/20\n",
      "13934/13934 [==============================] - 6s - loss: 0.6793     \n",
      "Epoch 11/20\n",
      "13934/13934 [==============================] - 5s - loss: 0.6780     \n",
      "Epoch 12/20\n",
      "13934/13934 [==============================] - 5s - loss: 0.6771     \n",
      "Epoch 13/20\n",
      "13934/13934 [==============================] - 5s - loss: 0.6760     \n",
      "Epoch 14/20\n",
      "13934/13934 [==============================] - 5s - loss: 0.6753     \n",
      "Epoch 15/20\n",
      "13934/13934 [==============================] - 5s - loss: 0.6745     \n",
      "Epoch 16/20\n",
      "13934/13934 [==============================] - 6s - loss: 0.6737     \n",
      "Epoch 17/20\n",
      "13934/13934 [==============================] - 6s - loss: 0.6731     \n",
      "Epoch 18/20\n",
      "13934/13934 [==============================] - 6s - loss: 0.6725     \n",
      "Epoch 19/20\n",
      "13934/13934 [==============================] - 6s - loss: 0.6717     \n",
      "Epoch 20/20\n",
      "13934/13934 [==============================] - 6s - loss: 0.6713     \n"
     ]
    },
    {
     "data": {
      "text/plain": [
       "<keras.callbacks.History at 0x212305506a0>"
      ]
     },
     "execution_count": 12,
     "metadata": {},
     "output_type": "execute_result"
    }
   ],
   "source": [
    "d.fit(train_X, train_X, nb_epoch=nb_epochs, batch_size=batch_size)"
   ]
  },
  {
   "cell_type": "code",
   "execution_count": 13,
   "metadata": {
    "collapsed": true
   },
   "outputs": [],
   "source": [
    "def classifier(d):\n",
    "    num_to_remove = 3\n",
    "    for i in range(num_to_remove):\n",
    "        d.pop()\n",
    "    d.add(Dense(128, input_dim=64, activation='tanh', bias=True))\n",
    "    d.add(Dense(128, activation='tanh', bias=True))\n",
    "    d.add(Dense(num_classes, activation='softmax', bias=True))\n",
    "    d.compile(optimizer='adam', loss='categorical_crossentropy',metrics=['accuracy'])\n",
    "    return d"
   ]
  },
  {
   "cell_type": "code",
   "execution_count": 14,
   "metadata": {},
   "outputs": [
    {
     "name": "stderr",
     "output_type": "stream",
     "text": [
      "c:\\python\\python35\\lib\\site-packages\\ipykernel_launcher.py:5: UserWarning: Update your `Dense` call to the Keras 2 API: `Dense(128, activation=\"tanh\", input_dim=64, use_bias=True)`\n",
      "  \"\"\"\n",
      "c:\\python\\python35\\lib\\site-packages\\ipykernel_launcher.py:6: UserWarning: Update your `Dense` call to the Keras 2 API: `Dense(128, activation=\"tanh\", use_bias=True)`\n",
      "  \n",
      "c:\\python\\python35\\lib\\site-packages\\ipykernel_launcher.py:7: UserWarning: Update your `Dense` call to the Keras 2 API: `Dense(13, activation=\"softmax\", use_bias=True)`\n",
      "  import sys\n"
     ]
    }
   ],
   "source": [
    "c = classifier(d)"
   ]
  },
  {
   "cell_type": "code",
   "execution_count": 15,
   "metadata": {},
   "outputs": [
    {
     "name": "stderr",
     "output_type": "stream",
     "text": [
      "c:\\python\\python35\\lib\\site-packages\\keras\\models.py:851: UserWarning: The `nb_epoch` argument in `fit` has been renamed `epochs`.\n",
      "  warnings.warn('The `nb_epoch` argument in `fit` '\n"
     ]
    },
    {
     "name": "stdout",
     "output_type": "stream",
     "text": [
      "Train on 13934 samples, validate on 5996 samples\n",
      "Epoch 1/20\n",
      "13934/13934 [==============================] - 5s - loss: 0.3149 - acc: 0.8890 - val_loss: 0.1684 - val_acc: 0.9461\n",
      "Epoch 2/20\n",
      "13934/13934 [==============================] - 4s - loss: 0.1388 - acc: 0.9527 - val_loss: 0.1261 - val_acc: 0.9578\n",
      "Epoch 3/20\n",
      "13934/13934 [==============================] - 4s - loss: 0.1080 - acc: 0.9642 - val_loss: 0.1609 - val_acc: 0.9461\n",
      "Epoch 4/20\n",
      "13934/13934 [==============================] - 5s - loss: 0.0876 - acc: 0.9742 - val_loss: 0.1381 - val_acc: 0.9575\n",
      "Epoch 5/20\n",
      "13934/13934 [==============================] - 5s - loss: 0.0768 - acc: 0.9750 - val_loss: 0.2573 - val_acc: 0.9270\n",
      "Epoch 6/20\n",
      "13934/13934 [==============================] - 5s - loss: 0.0699 - acc: 0.9772 - val_loss: 0.1413 - val_acc: 0.9611\n",
      "Epoch 7/20\n",
      "13934/13934 [==============================] - 5s - loss: 0.0659 - acc: 0.9783 - val_loss: 0.1417 - val_acc: 0.9608\n",
      "Epoch 8/20\n",
      "13934/13934 [==============================] - 5s - loss: 0.0669 - acc: 0.9778 - val_loss: 0.1257 - val_acc: 0.9601\n",
      "Epoch 9/20\n",
      "13934/13934 [==============================] - 5s - loss: 0.0487 - acc: 0.9837 - val_loss: 0.1290 - val_acc: 0.9633\n",
      "Epoch 10/20\n",
      "13934/13934 [==============================] - 5s - loss: 0.0564 - acc: 0.9800 - val_loss: 0.1180 - val_acc: 0.9655\n",
      "Epoch 11/20\n",
      "13934/13934 [==============================] - 5s - loss: 0.0491 - acc: 0.9834 - val_loss: 0.1350 - val_acc: 0.9643\n",
      "Epoch 12/20\n",
      "13934/13934 [==============================] - 5s - loss: 0.0497 - acc: 0.9824 - val_loss: 0.1241 - val_acc: 0.9630\n",
      "Epoch 13/20\n",
      "13934/13934 [==============================] - 5s - loss: 0.0478 - acc: 0.9838 - val_loss: 0.1470 - val_acc: 0.9596\n",
      "Epoch 14/20\n",
      "13934/13934 [==============================] - 4s - loss: 0.0476 - acc: 0.9844 - val_loss: 0.1315 - val_acc: 0.9611\n",
      "Epoch 15/20\n",
      "13934/13934 [==============================] - 4s - loss: 0.0437 - acc: 0.9851 - val_loss: 0.1592 - val_acc: 0.9583\n",
      "Epoch 16/20\n",
      "13934/13934 [==============================] - 4s - loss: 0.0458 - acc: 0.9854 - val_loss: 0.1330 - val_acc: 0.9613\n",
      "Epoch 17/20\n",
      "13934/13934 [==============================] - 4s - loss: 0.0400 - acc: 0.9867 - val_loss: 0.1605 - val_acc: 0.9590\n",
      "Epoch 18/20\n",
      "13934/13934 [==============================] - 5s - loss: 0.0384 - acc: 0.9869 - val_loss: 0.1355 - val_acc: 0.9641\n",
      "Epoch 19/20\n",
      "13934/13934 [==============================] - 5s - loss: 0.0383 - acc: 0.9864 - val_loss: 0.1743 - val_acc: 0.9523\n",
      "Epoch 20/20\n",
      "13934/13934 [==============================] - 5s - loss: 0.0426 - acc: 0.9855 - val_loss: 0.1385 - val_acc: 0.9650\n"
     ]
    },
    {
     "data": {
      "text/plain": [
       "<keras.callbacks.History at 0x21231220f98>"
      ]
     },
     "execution_count": 15,
     "metadata": {},
     "output_type": "execute_result"
    }
   ],
   "source": [
    "c.fit(train_X, train_y, validation_data=(val_X, val_y), nb_epoch=nb_epochs, batch_size=batch_size)"
   ]
  },
  {
   "cell_type": "code",
   "execution_count": 16,
   "metadata": {},
   "outputs": [
    {
     "name": "stdout",
     "output_type": "stream",
     "text": [
      " 832/1111 [=====================>........] - ETA: 0s"
     ]
    }
   ],
   "source": [
    "loss, acc = c.evaluate(test_AP_features, test_labels)"
   ]
  },
  {
   "cell_type": "code",
   "execution_count": 18,
   "metadata": {},
   "outputs": [
    {
     "name": "stdout",
     "output_type": "stream",
     "text": [
      "1.20957548473 0.761476147615\n"
     ]
    }
   ],
   "source": [
    "print (loss, acc)"
   ]
  },
  {
   "cell_type": "markdown",
   "metadata": {},
   "source": [
    "### Notes:\n",
    "\n",
    "- This program has a little bit higher accuracy, around 3%, compared with the other sample. I don't think it has a larger "
   ]
  }
 ],
 "metadata": {
  "kernelspec": {
   "display_name": "Python 3",
   "language": "python",
   "name": "python3"
  },
  "language_info": {
   "codemirror_mode": {
    "name": "ipython",
    "version": 3
   },
   "file_extension": ".py",
   "mimetype": "text/x-python",
   "name": "python",
   "nbconvert_exporter": "python",
   "pygments_lexer": "ipython3",
   "version": "3.5.3"
  }
 },
 "nbformat": 4,
 "nbformat_minor": 1
}
